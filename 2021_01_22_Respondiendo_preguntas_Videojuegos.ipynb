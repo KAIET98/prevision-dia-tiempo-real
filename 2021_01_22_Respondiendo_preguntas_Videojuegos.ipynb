{
  "nbformat": 4,
  "nbformat_minor": 0,
  "metadata": {
    "colab": {
      "name": "2021-01-22 Respondiendo preguntas - Videojuegos.ipynb",
      "private_outputs": true,
      "provenance": [],
      "collapsed_sections": [],
      "toc_visible": true,
      "include_colab_link": true
    },
    "kernelspec": {
      "name": "ir",
      "display_name": "R"
    }
  },
  "cells": [
    {
      "cell_type": "markdown",
      "metadata": {
        "id": "view-in-github",
        "colab_type": "text"
      },
      "source": [
        "<a href=\"https://colab.research.google.com/github/KAIET98/prevision-dia-tiempo-real/blob/master/2021_01_22_Respondiendo_preguntas_Videojuegos.ipynb\" target=\"_parent\"><img src=\"https://colab.research.google.com/assets/colab-badge.svg\" alt=\"Open In Colab\"/></a>"
      ]
    },
    {
      "cell_type": "markdown",
      "metadata": {
        "id": "7OtDf8vy9j-Y"
      },
      "source": [
        "# Respondiendo preguntas sobre los datos\n",
        "\n",
        "Enrique Onieva Caracuel - Universidad de Deusto\n",
        "\n",
        "https://www.linkedin.com/in/enriqueonieva/"
      ]
    },
    {
      "cell_type": "markdown",
      "metadata": {
        "id": "gDwnAVGOkl7W"
      },
      "source": [
        "## Instalación de librerías"
      ]
    },
    {
      "cell_type": "code",
      "metadata": {
        "id": "VeFrHEn9WRFl"
      },
      "source": [
        "packages = c(\"tidyverse\", \"ggrepel\", \"corrplot\",\"fastDummies\",\"arules\",\"arulesViz\")\n",
        "newpack  = packages[!(packages %in% installed.packages()[,\"Package\"])]\n",
        "\n",
        "if(length(newpack)) install.packages(newpack)\n",
        "a=lapply(packages, library, character.only=TRUE)"
      ],
      "execution_count": null,
      "outputs": []
    },
    {
      "cell_type": "markdown",
      "metadata": {
        "id": "aNlvrMYMZHIl"
      },
      "source": [
        "(Previamente, es necesario subir el fichero vgsales.csv)"
      ]
    },
    {
      "cell_type": "code",
      "metadata": {
        "id": "vSh0d7qfM9Bs"
      },
      "source": [
        "datos = read.csv(\"vgsales.csv\")\r\n",
        "knitr::kable(head(datos))\r\n",
        "dim(datos)"
      ],
      "execution_count": null,
      "outputs": []
    },
    {
      "cell_type": "markdown",
      "metadata": {
        "id": "ifh9zGTYcmWv"
      },
      "source": [
        "La function de \"kable\" te muestra la tabla de head(datos) de una forma de \"Terminal\" del ordenador\r\n",
        "\r\n",
        "---\r\n",
        "\r\n"
      ]
    },
    {
      "cell_type": "code",
      "metadata": {
        "id": "99GdUDSMNwek"
      },
      "source": [
        "datos = datos %>% filter(Year >= 2000)\r\n",
        "knitr::kable(head(datos,10))"
      ],
      "execution_count": null,
      "outputs": []
    },
    {
      "cell_type": "code",
      "metadata": {
        "id": "W7SqGD0JOHZ7"
      },
      "source": [
        "knitr::kable(datos %>% filter(Name == \"Minecraft\"))"
      ],
      "execution_count": null,
      "outputs": []
    },
    {
      "cell_type": "markdown",
      "metadata": {
        "id": "gzdSVCIZPFYq"
      },
      "source": [
        "## Juegos con más ventas en (...)\r\n",
        "- Arrange\r\n",
        "- top_n"
      ]
    },
    {
      "cell_type": "code",
      "metadata": {
        "id": "FVoy1iekPJba"
      },
      "source": [
        "knitr::kable(head( datos %>% \r\n",
        "   arrange(desc(Global_Sales)) %>%\r\n",
        "   top_n(3)\r\n",
        "   )\r\n",
        "   )"
      ],
      "execution_count": null,
      "outputs": []
    },
    {
      "cell_type": "markdown",
      "metadata": {
        "id": "eKMlqN_re8N9"
      },
      "source": [
        "Ordenamos la zona de Other_Sales y ordenamos la tabla por medio de las ventas de Other_Sales, y visualizamos el top_10\r\n"
      ]
    },
    {
      "cell_type": "code",
      "metadata": {
        "id": "HEGbTlc7eM3b"
      },
      "source": [
        "knitr::kable(head(\r\n",
        "  datos %>%\r\n",
        "  arrange(\r\n",
        "    desc(\r\n",
        "      Other_Sales\r\n",
        "    )\r\n",
        "  )\r\n",
        ")\r\n",
        ")"
      ],
      "execution_count": null,
      "outputs": []
    },
    {
      "cell_type": "markdown",
      "metadata": {
        "id": "f0-fhNuqP2io"
      },
      "source": [
        "## Juegos con más ventas en (...) para una determinada plataforma, año...\r\n",
        "- filter\r\n",
        "- arrange\r\n",
        "- top_n"
      ]
    },
    {
      "cell_type": "code",
      "metadata": {
        "id": "TtgxnLgeP1Lf"
      },
      "source": [
        "respuesta = datos %>% \r\n",
        "   filter(Year == 2008) %>%\r\n",
        "   arrange(desc(Global_Sales)) %>%\r\n",
        "   top_n(3)\r\n",
        "\r\n",
        "knitr::kable(head(respuesta))"
      ],
      "execution_count": null,
      "outputs": []
    },
    {
      "cell_type": "code",
      "metadata": {
        "id": "lINIOj0GfeTd"
      },
      "source": [
        "# Ordenamos la tabla de datos para que me saque por WII en Estados Unidos cuales han sido los videojuegos más vendidos\r\n",
        "head(\r\n",
        "  datos %>%\r\n",
        "filter(Platform == \"Wii\") %>%\r\n",
        "arrange(desc(\r\n",
        "  NA_Sales\r\n",
        ")\r\n",
        ")\r\n",
        ")"
      ],
      "execution_count": null,
      "outputs": []
    },
    {
      "cell_type": "markdown",
      "metadata": {
        "id": "OvBQFgLeQvRA"
      },
      "source": [
        "## Plataforma con mayores ventas\r\n",
        "- group_by\r\n",
        "- summarise\r\n"
      ]
    },
    {
      "cell_type": "code",
      "metadata": {
        "id": "QCMlFlZnQ5Je"
      },
      "source": [
        "respuesta = datos %>% \r\n",
        "   group_by(Platform) %>%\r\n",
        "   summarise(Total = sum(Global_Sales)) %>%\r\n",
        "   arrange(desc(Total))\r\n",
        "\r\n",
        "knitr::kable(head(respuesta,3))"
      ],
      "execution_count": null,
      "outputs": []
    },
    {
      "cell_type": "code",
      "metadata": {
        "id": "DQTWmP1PUawo"
      },
      "source": [
        "ggplot(respuesta, aes(x = reorder(Platform, Total), y = Total)) + geom_col()"
      ],
      "execution_count": null,
      "outputs": []
    },
    {
      "cell_type": "code",
      "metadata": {
        "id": "30R8BZkfjEPq"
      },
      "source": [
        ""
      ],
      "execution_count": null,
      "outputs": []
    },
    {
      "cell_type": "code",
      "metadata": {
        "id": "D6Ak9qt8gauz"
      },
      "source": [
        "\r\n",
        "datos %>% \r\n",
        "group_by(Platform) %>%\r\n",
        "summarise(Total_ventas = round(mean(Global_Sales), 2),\r\n",
        "desv_estand = round(sd(Global_Sales), 2)\r\n",
        ") %>% arrange(\r\n",
        "  desc(\r\n",
        "    Total_ventas\r\n",
        "  )\r\n",
        ") %>% ggplot(\r\n",
        "  .,\r\n",
        "  aes(Platform,\r\n",
        "  Total_ventas, fill = Total_ventas)\r\n",
        ") +\r\n",
        "geom_col() +\r\n",
        "theme_minimal() +\r\n",
        "xlab(\"Plataforma\")+\r\n",
        "ylab(\"Ventas globales\")"
      ],
      "execution_count": null,
      "outputs": []
    },
    {
      "cell_type": "code",
      "metadata": {
        "id": "tRNO2W4ukAVZ"
      },
      "source": [
        "datos%>%\r\n",
        "group_by(Year) %>%\r\n",
        "summarise(\r\n",
        "  Total_Ventas = round(sum(Global_Sales)/sum(datos$Global_Sales), \r\n",
        "  2), \r\n",
        "  promedio = n()) %>% ggplot(\r\n",
        "    .,\r\n",
        "    aes(\r\n",
        "      Year, Total_Ventas \r\n",
        "    )\r\n",
        "  ) +\r\n",
        "  geom_point(\r\n",
        "    aes(fill = Year)\r\n",
        "   ) +\r\n",
        "  geom_jitter() +\r\n",
        "  geom_line() +\r\n",
        "  geom_text(aes(label=Year)\r\n",
        "  ) +\r\n",
        "  theme_minimal()\r\n",
        "  \r\n",
        "\r\n",
        "\r\n",
        "\r\n"
      ],
      "execution_count": null,
      "outputs": []
    },
    {
      "cell_type": "markdown",
      "metadata": {
        "id": "9Uk8giV0ViAS"
      },
      "source": [
        "##Plataforma con más ventas por año, género...\r\n",
        "- filter\r\n",
        "- group_by\r\n",
        "- summarise\r\n",
        "- arrange"
      ]
    },
    {
      "cell_type": "code",
      "metadata": {
        "id": "ULlFZZ0uVmJ9"
      },
      "source": [
        "print(unique(datos$Genre))\r\n",
        "respuesta = datos %>% \r\n",
        "   filter(Genre == \"Puzzle\") %>%\r\n",
        "   group_by(Platform) %>%\r\n",
        "   summarise(Total = sum(Global_Sales)) %>%\r\n",
        "   arrange(desc(Total))\r\n",
        "\r\n",
        "knitr::kable(head(respuesta,3))"
      ],
      "execution_count": null,
      "outputs": []
    },
    {
      "cell_type": "code",
      "metadata": {
        "id": "9SRf3MwPnKF9"
      },
      "source": [
        "head(\r\n",
        "  datos %>%\r\n",
        "  filter(\r\n",
        "    Genre == \"Sports\"\r\n",
        "  ) %>%\r\n",
        "  group_by(\r\n",
        "    Platform\r\n",
        "  ) %>%\r\n",
        "  summarise(\r\n",
        "    Total_ventas = sum(Global_Sales)\r\n",
        "  ) %>%\r\n",
        "  arrange(desc(Total_ventas))\r\n",
        ") "
      ],
      "execution_count": null,
      "outputs": []
    },
    {
      "cell_type": "markdown",
      "metadata": {
        "id": "v5KmaZ09WVd0"
      },
      "source": [
        "## Ventas consola y año"
      ]
    },
    {
      "cell_type": "code",
      "metadata": {
        "id": "a-gn5FdCWby2"
      },
      "source": [
        "datos2 = datos %>%\r\n",
        "  group_by(Platform, Genre, Year) %>%\r\n",
        "  summarise(ventas = sum(Global_Sales)) %>%\r\n",
        "  arrange(desc(ventas, Platform, Genre ), Year)\r\n",
        "\r\n",
        "knitr::kable(head(datos2,30))\r\n",
        "\r\n",
        "\r\n"
      ],
      "execution_count": null,
      "outputs": []
    },
    {
      "cell_type": "markdown",
      "metadata": {
        "id": "S5KQ5SsUXV_H"
      },
      "source": [
        "Plataforma con más ventas en un año, o mejor año para una plataforma"
      ]
    },
    {
      "cell_type": "code",
      "metadata": {
        "id": "U4xkhPMBXUaG"
      },
      "source": [
        "respuesta = datos2 %>%\r\n",
        "    filter(Year == 2010) %>%\r\n",
        "    arrange(desc(ventas))\r\n",
        "\r\n",
        "knitr::kable(head(respuesta,3))"
      ],
      "execution_count": null,
      "outputs": []
    },
    {
      "cell_type": "code",
      "metadata": {
        "id": "11YnHZZFXtrK"
      },
      "source": [
        "respuesta = datos2 %>%\r\n",
        "    filter(Platform == \"PS3\") %>%\r\n",
        "    arrange(desc(ventas))\r\n",
        "\r\n",
        "knitr::kable(head(respuesta,3))"
      ],
      "execution_count": null,
      "outputs": []
    },
    {
      "cell_type": "markdown",
      "metadata": {
        "id": "6arPwpTdX9KE"
      },
      "source": [
        "## Necesitamos generar nueva información para responder a otras preguntas\r\n",
        "- Juegos que se venden mucho más en EEUU que EUROPA"
      ]
    },
    {
      "cell_type": "code",
      "metadata": {
        "id": "rRgV99xGYDGo"
      },
      "source": [
        "datos2 = datos %>%\r\n",
        "  group_by(Name) %>%\r\n",
        "  summarise(EEUU = sum(NA_Sales),\r\n",
        "            EUROPA = sum(EU_Sales)) %>%\r\n",
        "  filter(EEUU>1) %>%\r\n",
        "  filter(EUROPA>1) %>%\r\n",
        "  mutate(Proporcion = EEUU/EUROPA) %>%\r\n",
        "  arrange(Proporcion)\r\n",
        "  \r\n",
        "knitr::kable(head(datos2,3))\r\n",
        "knitr::kable(tail(datos2,3))"
      ],
      "execution_count": null,
      "outputs": []
    },
    {
      "cell_type": "code",
      "metadata": {
        "id": "wIjG94b-brAp"
      },
      "source": [
        "datos3 = rbind(head(datos2,10),tail(datos2,10))\r\n",
        "ggplot(datos3, aes(x = EEUU, y = EUROPA, col = Proporcion)) + \r\n",
        "   geom_point() + \r\n",
        "   geom_label_repel(aes(label = Name), max.overlaps = 100)"
      ],
      "execution_count": null,
      "outputs": []
    },
    {
      "cell_type": "markdown",
      "metadata": {
        "id": "GXh3DCnBZwhk"
      },
      "source": [
        "## Género y lugar\r\n",
        "- pivot"
      ]
    },
    {
      "cell_type": "code",
      "metadata": {
        "id": "DSkTI-NQaHZi"
      },
      "source": [
        "datos2 = datos %>%\r\n",
        " group_by(Genre) %>%\r\n",
        "  summarise(EEUU = sum(NA_Sales),\r\n",
        "            EUROPA = sum(EU_Sales),\r\n",
        "            JAPON = sum(JP_Sales),\r\n",
        "            OTRO = sum(Other_Sales),\r\n",
        "            GLOBAL = sum(Global_Sales)) %>%\r\n",
        "  mutate(EEUU = 100*EEUU / GLOBAL) %>%\r\n",
        "  mutate(EUROPA = 100*EUROPA / GLOBAL) %>%\r\n",
        "  mutate(JAPON = 100*JAPON / GLOBAL) %>%\r\n",
        "  mutate(OTRO = 100*OTRO / GLOBAL) %>%\r\n",
        "  select(Genre, EEUU, EUROPA, JAPON, OTRO)\r\n",
        "\r\n",
        "knitr::kable((datos2))"
      ],
      "execution_count": null,
      "outputs": []
    },
    {
      "cell_type": "code",
      "metadata": {
        "id": "Y5XE2aZzakog"
      },
      "source": [
        "datos3 = datos2 %>%\r\n",
        "  pivot_longer(!Genre, names_to = \"Region\", values_to = \"perc\")\r\n",
        "\r\n",
        "knitr::kable(head(datos3))\r\n"
      ],
      "execution_count": null,
      "outputs": []
    },
    {
      "cell_type": "code",
      "metadata": {
        "id": "BPm-AFpybSm9"
      },
      "source": [
        "ggplot(datos3, aes(x = Genre, y = perc, fill = Genre)) + \r\n",
        "  geom_col(position = \"dodge\") +\r\n",
        "  coord_flip()+ \r\n",
        "  facet_wrap(~Region) + \r\n",
        "  labs(x = \"\", y = \"\") + \r\n",
        "  theme_minimal()"
      ],
      "execution_count": null,
      "outputs": []
    },
    {
      "cell_type": "markdown",
      "metadata": {
        "id": "0q9UcWu5cq38"
      },
      "source": [
        "## Relación entre columnas"
      ]
    },
    {
      "cell_type": "code",
      "metadata": {
        "id": "okf125g6cuXY"
      },
      "source": [
        "resultado = round(cor(datos %>% select(ends_with(\"Sales\"))),2)\r\n",
        "knitr::kable(resultado)"
      ],
      "execution_count": null,
      "outputs": []
    },
    {
      "cell_type": "code",
      "metadata": {
        "id": "rabQtW73c5uL"
      },
      "source": [
        "corrplot.mixed(resultado)"
      ],
      "execution_count": null,
      "outputs": []
    },
    {
      "cell_type": "code",
      "metadata": {
        "id": "2vSQ8auwdV6W"
      },
      "source": [
        "resultado = table(datos$Genre, datos$Platform)\r\n",
        "knitr::kable(resultado)"
      ],
      "execution_count": null,
      "outputs": []
    },
    {
      "cell_type": "code",
      "metadata": {
        "id": "zyyO6KSIdxSd"
      },
      "source": [
        "resultado = prop.table(table(datos$Genre, datos$Platform), margin = 1)\r\n",
        "resultado = round(100*resultado,1)\r\n",
        "knitr::kable(resultado)"
      ],
      "execution_count": null,
      "outputs": []
    },
    {
      "cell_type": "code",
      "metadata": {
        "id": "34A0FX5NeAG8"
      },
      "source": [
        "resultado = prop.table(table(datos$Genre, datos$Platform), margin = 2)\r\n",
        "resultado = round(100*resultado,1)\r\n",
        "knitr::kable(resultado)"
      ],
      "execution_count": null,
      "outputs": []
    },
    {
      "cell_type": "code",
      "metadata": {
        "id": "2Eiph05zeEVP"
      },
      "source": [
        "datos2 = datos %>% \r\n",
        "  group_by(Genre, Platform) %>%\r\n",
        "  summarise(n = n()) %>%\r\n",
        "  group_by(Platform) %>%\r\n",
        "  mutate(p = n/sum(n)) %>%\r\n",
        "  filter(p>0.1)\r\n",
        "\r\n",
        "knitr::kable(head(datos2))\r\n",
        "ggplot(datos2, aes(x = Platform, y = Genre, fill = p)) + \r\n",
        "  geom_tile()"
      ],
      "execution_count": null,
      "outputs": []
    },
    {
      "cell_type": "markdown",
      "metadata": {
        "id": "OqK5vhAhfE1B"
      },
      "source": [
        "## Clustering"
      ]
    },
    {
      "cell_type": "code",
      "metadata": {
        "id": "chlj_a7ifGtM"
      },
      "source": [
        "datos2 = datos %>%\r\n",
        "  select(ends_with(\"Sales\"))%>%\r\n",
        "  mutate(NA_Sales = NA_Sales/Global_Sales,\r\n",
        "         EU_Sales = EU_Sales/Global_Sales,\r\n",
        "         JP_Sales = JP_Sales/Global_Sales,\r\n",
        "         Other_Sales = Other_Sales/Global_Sales) %>%\r\n",
        "  select(-Global_Sales)\r\n",
        "\r\n",
        "datos2 = round(100*datos2)\r\n",
        "knitr::kable(head(datos2))"
      ],
      "execution_count": null,
      "outputs": []
    },
    {
      "cell_type": "code",
      "metadata": {
        "id": "SUh52Tq0giX4"
      },
      "source": [
        "distances = dist(datos2, method = \"euclidean\")\r\n",
        "clustering = hclust(distances, method=\"ward.D2\")\r\n",
        "plot(clustering, labels = FALSE, hang = -1)\r\n",
        "rect.hclust(clustering, k = 6, border = 2:10) "
      ],
      "execution_count": null,
      "outputs": []
    },
    {
      "cell_type": "code",
      "metadata": {
        "id": "IjuaSVdIhcUh"
      },
      "source": [
        "miembros = cutree(clustering, k = 6)\r\n",
        "print(head(miembros,100))\r\n",
        "\r\n",
        "datos3 = datos2 %>%\r\n",
        "  mutate(Name = datos$Name, \r\n",
        "         cluster = miembros,\r\n",
        "         ventas = datos$Global_Sales)\r\n",
        "\r\n",
        "knitr::kable(head(datos3))"
      ],
      "execution_count": null,
      "outputs": []
    },
    {
      "cell_type": "code",
      "metadata": {
        "id": "k3-K0NtiiDoP"
      },
      "source": [
        "centroides = datos3 %>%\r\n",
        "          select(-Name) %>%\r\n",
        "          group_by(cluster) %>%\r\n",
        "          summarise_all(mean) %>% # los juegos del cluster 1 en promedio hacen el 46% de las ventas en N.A\r\n",
        "          summarise_all(round)\r\n",
        "\r\n",
        "knitr::kable(centroides)"
      ],
      "execution_count": null,
      "outputs": []
    },
    {
      "cell_type": "code",
      "metadata": {
        "id": "EyA4Hm5rikw3"
      },
      "source": [
        "table(miembros)\r\n",
        "resultado = prop.table(table(miembros,datos$Genre), margin = 1)\r\n",
        "resultado = round(100*resultado,1)\r\n",
        "knitr::kable(resultado)"
      ],
      "execution_count": null,
      "outputs": []
    },
    {
      "cell_type": "code",
      "metadata": {
        "id": "eVVQ9Tlbj92B"
      },
      "source": [
        "resultado = datos3 %>%\r\n",
        "  group_by(cluster) %>%\r\n",
        "  arrange(desc(ventas)) %>%\r\n",
        "  top_n(2) %>%\r\n",
        "  arrange(cluster)\r\n",
        "\r\n",
        "knitr::kable(resultado)"
      ],
      "execution_count": null,
      "outputs": []
    },
    {
      "cell_type": "markdown",
      "metadata": {
        "id": "VnrJUBnakiIJ"
      },
      "source": [
        "## Reglas de asociación"
      ]
    },
    {
      "cell_type": "code",
      "metadata": {
        "id": "CVEllfOOklOL"
      },
      "source": [
        "datos2 = datos %>%\r\n",
        "  dummy_cols(select_columns = \"Platform\") %>%\r\n",
        "  select(-Rank,-Platform,-Global_Sales) %>%\r\n",
        "  group_by(Name, Genre, Publisher,Year) %>%\r\n",
        "  summarise_all(sum)\r\n",
        "\r\n",
        "knitr::kable(head(datos2,15))"
      ],
      "execution_count": null,
      "outputs": []
    },
    {
      "cell_type": "code",
      "metadata": {
        "id": "LwyrlOjem6rN"
      },
      "source": [
        "datos3 = datos2 %>%\r\n",
        "  ungroup() %>%\r\n",
        "  select(-Name) %>%\r\n",
        "  mutate(Year = case_when(Year < 2010 ~ \"2000s\",TRUE ~ \"2010s\")) %>%\r\n",
        "  mutate_at(vars(ends_with(\"Sales\")),function(x){ifelse(x<mean(x),NA,\"high\")}) %>%\r\n",
        "  mutate_at(vars(starts_with(\"Platform\")),function(x){ifelse(x==0,NA,\"YES\")})\r\n",
        "\r\n",
        "knitr::kable(head(datos3,15))"
      ],
      "execution_count": null,
      "outputs": []
    },
    {
      "cell_type": "code",
      "metadata": {
        "id": "E3shMm1NorNz"
      },
      "source": [
        "class(datos3)\r\n",
        "datos.trans = as(data.frame(datos3), \"transactions\")\r\n",
        "summary(datos.trans)\r\n",
        "\r\n",
        "\r\n",
        "#Densidad: estos metodos necesitan transacciones o compras, tu tienes diferentes clientes o tickets, y tienes a la vez diferentes productos. Pues, lo que pasa que en cualquier negocio, tu vas a tener muchos tickets porque mucha gente viene a comprar, y tienes muchos productos. Por lo que tienes una matriz bianaria, donde en el primer ticket esta el primer producot, no está el segundo esta el tercero y demas. Por lo que una matriz tiene muchas columans. Una persona, sola, compra un porcentaje muy bajo d elos productos. En la compra que tu haces, estarían todos los productos del supermercado pero con solamente unos seleccinoados. En este caso están el 0.01037836 , es decir el 1,07% de los productos."
      ],
      "execution_count": null,
      "outputs": []
    },
    {
      "cell_type": "code",
      "metadata": {
        "id": "jWZs2ccqpcVa"
      },
      "source": [
        "rules = apriori(datos.trans, parameter = list(supp = 0.05, \r\n",
        "# dame solo reglas que afecten como minimo al 0.05 d elos juegos\r\n",
        "conf = 0.9,# dame reglas con mucha certeza\r\n",
        " minlen = 2, # minimo reglas que asocien 2 productos\r\n",
        " maxlen=3 # maximo que afecten a 3, no quiero una relag muy confusa\r\n",
        " ))\r\n",
        "\r\n",
        "\r\n",
        "#LHS: LEFT HANDS SIDE, \r\n",
        "#RHS: RIGHT HAND SIDE\r\n",
        "# count: cuantos lo cumplen \r\n",
        "#support: cuantos individuos cumplen la regla entre los totales.\r\n",
        "# coverage: cobertura, es simimlar al soporte, lo unico que considera el LHS.\r\n",
        "#lift: es una medida que nos da una idea de como de sorprendente es la regla, en funcion a la parte que tienen en su consequente, es decir RHS. Cuanto más alto sea el Lift, es decir, cuanto más \r\n",
        "knitr::kable(DATAFRAME(sort(rules, by=\"confidence\", decreasing=TRUE)))"
      ],
      "execution_count": null,
      "outputs": []
    },
    {
      "cell_type": "code",
      "metadata": {
        "id": "W8Z5qI5eqATt"
      },
      "source": [
        "rules = apriori(datos.trans, parameter = list(supp = 0.01, conf = 0.5, maxlen=2))\r\n",
        "rules = subset(rules, subset = (rhs %in% c(\"NA_Sales=high\",\"EU_Sales=high\",\"JP_Sales=high\",\"Other_Sales=high\")))\r\n",
        "knitr::kable(DATAFRAME(sort(rules, by=\"confidence\", decreasing=TRUE)))"
      ],
      "execution_count": null,
      "outputs": []
    },
    {
      "cell_type": "code",
      "metadata": {
        "id": "Q1yf0E-0rlev"
      },
      "source": [
        "plot(rules, method = \"graph\", control=list(cex=1))"
      ],
      "execution_count": null,
      "outputs": []
    }
  ]
}